{
 "cells": [
  {
   "cell_type": "markdown",
   "metadata": {},
   "source": [
    "Dogs-vs-Cats from kaggle"
   ]
  },
  {
   "cell_type": "code",
   "execution_count": 19,
   "metadata": {},
   "outputs": [
    {
     "name": "stdout",
     "output_type": "stream",
     "text": [
      "Training data : 2000\n",
      "Validation data : 2000\n",
      "Test data : 1000\n"
     ]
    }
   ],
   "source": [
    "from keras import models, layers\n",
    "import numpy as np\n",
    "import glob\n",
    "import os\n",
    "import shutil\n",
    "from random import shuffle\n",
    "\n",
    "ORIG_DATA_DIR = '/home/david/machine/datasets/dogs-vs-cats/train/'\n",
    "train_dir = '/home/david/machine/datasets/dogs-vs-cats/proc_train'\n",
    "valid_dir = '/home/david/machine/datasets/dogs-vs-cats/proc_valid'\n",
    "test_dir= '/home/david/machine/datasets/dogs-vs-cats/proc_test'\n",
    "for d in [train_dir, valid_dir, test_dir]:\n",
    "    try:\n",
    "        os.makedirs(d)\n",
    "    except:\n",
    "        pass\n",
    "    \n",
    "def sort_data():\n",
    "    \n",
    "    cats = glob.glob(ORIG_DATA_DIR+'cat*')\n",
    "    dogs = glob.glob(ORIG_DATA_DIR+'dog*')\n",
    "    \n",
    "    shuffle(cats)\n",
    "    shuffle(dogs)\n",
    "    for k in range(1000):\n",
    "        num = \"04%d\" % k\n",
    "        src_cat = cats[k]\n",
    "        dest_cat = train_dir+'/cat'+num\n",
    "        src_dog = dogs[k]\n",
    "        dest_dog = train_dir+'/dog'+num\n",
    "        shutil.copyfile(src_cat,dest_cat)\n",
    "        shutil.copyfile(src_dog,dest_dog)\n",
    "        \n",
    "    for k in range(1000,1500):\n",
    "        num = \"04%d\" % k\n",
    "        src_cat = cats[k]\n",
    "        dest_cat = valid_dir+'/cat'+num\n",
    "        src_dog = dogs[k]\n",
    "        dest_dog = valid_dir+'/dog'+num\n",
    "        shutil.copyfile(src_cat,dest_cat)\n",
    "        shutil.copyfile(src_dog,dest_dog)\n",
    "    for k in range(1500,2000):\n",
    "        num = \"04%d\" % k\n",
    "        src_cat = cats[k]\n",
    "        dest_cat = test_dir+'/cat'+num\n",
    "        src_dog = dogs[k]\n",
    "        dest_dog = test_dir+'/dog'+num\n",
    "        shutil.copyfile(src_cat,dest_cat)\n",
    "        shutil.copyfile(src_dog,dest_dog)\n",
    "    \n",
    "    return dogs, cats \n",
    "\n",
    "sort_data()\n",
    "print('Training data : {}'.format(len(os.listdir(train_dir))))\n",
    "print('Validation data : {}'.format(len(os.listdir(valid_dir))))\n",
    "print('Test data : {}'.format(len(os.listdir(test_dir))))"
   ]
  },
  {
   "cell_type": "code",
   "execution_count": null,
   "metadata": {},
   "outputs": [],
   "source": []
  }
 ],
 "metadata": {
  "kernelspec": {
   "display_name": "Python 3",
   "language": "python",
   "name": "python3"
  },
  "language_info": {
   "codemirror_mode": {
    "name": "ipython",
    "version": 3
   },
   "file_extension": ".py",
   "mimetype": "text/x-python",
   "name": "python",
   "nbconvert_exporter": "python",
   "pygments_lexer": "ipython3",
   "version": "3.7.2"
  }
 },
 "nbformat": 4,
 "nbformat_minor": 2
}
